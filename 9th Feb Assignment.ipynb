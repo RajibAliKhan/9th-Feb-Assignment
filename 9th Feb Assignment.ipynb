{
 "cells": [
  {
   "cell_type": "code",
   "execution_count": null,
   "id": "de011891-1858-4c71-a3ba-e454d0161394",
   "metadata": {},
   "outputs": [],
   "source": [
    "# Q1 answer :"
   ]
  },
  {
   "cell_type": "code",
   "execution_count": 23,
   "id": "e86699d5-7c19-4cfd-81f0-0b21a596a38c",
   "metadata": {},
   "outputs": [],
   "source": [
    "class Vehicle :\n",
    "    def __init__(self, name_of_vehicle, max_speed, average_of_vehicle) :\n",
    "        self.name_of_vehicle = name_of_vehicle\n",
    "        self.max_speed = max_speed\n",
    "        self.average_of_vehicle = average_of_vehicle\n",
    "    def Vehicle_info(self) :\n",
    "        print('Name of vehicle :',self.name_of_vehicle, 'Maximum speed :', self.max_speed, 'Average speed :', self.average_of_vehicle)"
   ]
  },
  {
   "cell_type": "code",
   "execution_count": 24,
   "id": "f24beb05-7de6-4641-aa30-0118e9e0d476",
   "metadata": {},
   "outputs": [
    {
     "name": "stdout",
     "output_type": "stream",
     "text": [
      "Name of vehicle : Kawasaki Ninja H2 Maximum speed : 400 km/h Average speed : 200 km/h\n"
     ]
    }
   ],
   "source": [
    "a = Vehicle('Kawasaki Ninja H2', '400 km/h', '200 km/h')\n",
    "a.Vehicle_info()"
   ]
  },
  {
   "cell_type": "code",
   "execution_count": null,
   "id": "e9785c88-b919-463a-893f-096ac58ccd19",
   "metadata": {},
   "outputs": [],
   "source": [
    "# Q2 answer :"
   ]
  },
  {
   "cell_type": "code",
   "execution_count": 39,
   "id": "8be223e9-7c68-4fe5-9ed3-3b73ce0ede05",
   "metadata": {},
   "outputs": [],
   "source": [
    "class Car(Vehicle) :\n",
    "    def __init__(self, name_of_vehicle, max_speed, average_of_vehicle) :\n",
    "        super().__init__(name_of_vehicle, max_speed, average_of_vehicle)\n",
    "    def seating_capasity(self, capasity) :\n",
    "        return f'{self.name_of_vehicle} has a seating capacity of {capasity} people.'     "
   ]
  },
  {
   "cell_type": "code",
   "execution_count": 40,
   "id": "8401202c-befd-49de-9765-11c6861fa830",
   "metadata": {},
   "outputs": [
    {
     "name": "stdout",
     "output_type": "stream",
     "text": [
      "Kawasaki Ninja H2 has a seating capacity of 2 people.\n"
     ]
    }
   ],
   "source": [
    "a = Car('Kawasaki Ninja H2', '400 km/h', '200 km/h')\n",
    "print(a.seating_capasity(2))"
   ]
  },
  {
   "cell_type": "code",
   "execution_count": null,
   "id": "9769769b-398d-47c2-9fa0-f4d7542b1807",
   "metadata": {},
   "outputs": [],
   "source": [
    "# Q3 answer :"
   ]
  },
  {
   "cell_type": "code",
   "execution_count": null,
   "id": "39b20719-91f3-4d5c-a126-cfcd6c95a343",
   "metadata": {},
   "outputs": [],
   "source": [
    "Multiple inheritance means one child class can inherit from two or more parent class.\n",
    "The data and information can be inherit from two or more parent class to one child class."
   ]
  },
  {
   "cell_type": "code",
   "execution_count": 1,
   "id": "66cc40dd-a82b-4f56-8c07-f8c8f3cf0903",
   "metadata": {},
   "outputs": [],
   "source": [
    "class Country :\n",
    "    def Country_info(self, name, population) :\n",
    "        print('Country_name :', name, 'Country_population :', population)\n",
    "        \n",
    "class State :\n",
    "    def State_info(self, name, population) :\n",
    "        print('State_name :', name, 'State_population :', population)\n",
    "\n",
    "class District(Country, State) :\n",
    "    def District_info(self, name, population) :\n",
    "        print('District_name :', name, 'District_population :', population)"
   ]
  },
  {
   "cell_type": "code",
   "execution_count": 5,
   "id": "891d8885-42f7-4bf7-bde1-430852ae021f",
   "metadata": {},
   "outputs": [],
   "source": [
    "a = District()"
   ]
  },
  {
   "cell_type": "code",
   "execution_count": 6,
   "id": "c8af2753-346a-4cd0-b529-40267c8d57bd",
   "metadata": {},
   "outputs": [
    {
     "name": "stdout",
     "output_type": "stream",
     "text": [
      "Country_name : India Country_population : 1.4B\n",
      "State_name : West Bengal State_population : 100M\n",
      "District_name : Purba Medinipur District_population : 2M\n"
     ]
    }
   ],
   "source": [
    "a.Country_info('India', '1.4B')\n",
    "a.State_info('West Bengal', '100M')\n",
    "a.District_info('Purba Medinipur','2M')"
   ]
  },
  {
   "cell_type": "code",
   "execution_count": null,
   "id": "3d5f22ff-0c5e-4a78-9ab8-6ef70b2c09d0",
   "metadata": {},
   "outputs": [],
   "source": [
    "# Q4 answer :"
   ]
  },
  {
   "cell_type": "code",
   "execution_count": null,
   "id": "92639d3a-3ff0-476b-9c98-e8f53e295908",
   "metadata": {},
   "outputs": [],
   "source": [
    "# Getter :\n",
    "Getter ia a method that allows to access an attribute in a given class.\n",
    "It helps to read the value of a variable\n",
    "\n",
    "\n",
    "# Setter :\n",
    "Setter is a method that allows to set or mutate the value of an attribute in a class.\n",
    "A setter updates the value of a variable."
   ]
  },
  {
   "cell_type": "code",
   "execution_count": 7,
   "id": "5f572048-59a2-4930-b178-5ccd5e83ab88",
   "metadata": {},
   "outputs": [],
   "source": [
    "class Country :\n",
    "    def __init__(self, name) :\n",
    "        self._name = name\n",
    "    def get_name(self) :\n",
    "        return self._name\n",
    "    def set_name(self, name) :\n",
    "        self._name = name"
   ]
  },
  {
   "cell_type": "code",
   "execution_count": 8,
   "id": "8e9e19fa-543b-493f-870c-3e3c226f6fdd",
   "metadata": {},
   "outputs": [
    {
     "name": "stdout",
     "output_type": "stream",
     "text": [
      "India\n"
     ]
    }
   ],
   "source": [
    "c = Country('India')\n",
    "print(c.get_name())"
   ]
  },
  {
   "cell_type": "code",
   "execution_count": 10,
   "id": "baf5a7e9-ce27-465e-bf52-6f9a940ae83c",
   "metadata": {},
   "outputs": [
    {
     "name": "stdout",
     "output_type": "stream",
     "text": [
      "America\n"
     ]
    }
   ],
   "source": [
    "c.set_name('America')\n",
    "print(c.get_name())"
   ]
  },
  {
   "cell_type": "code",
   "execution_count": null,
   "id": "f9bfde45-a241-4558-b24a-ff1762f2515a",
   "metadata": {},
   "outputs": [],
   "source": [
    "# Q5 answer :"
   ]
  },
  {
   "cell_type": "code",
   "execution_count": null,
   "id": "6398ec3f-773b-447a-92b5-9bfc5851ad4e",
   "metadata": {},
   "outputs": [],
   "source": [
    "Method Overriding :\n",
    "In inheritance, all components present in the parent class, must by default available in the child class. \n",
    "If any component is missing from the parent class to the child class, then the child class is allowed to redefine.\n",
    "For this, following method by extending additional functions in the child class, is called method overriding."
   ]
  },
  {
   "cell_type": "code",
   "execution_count": 11,
   "id": "7883a7a6-1d74-4cef-bb69-dcac43ce523c",
   "metadata": {},
   "outputs": [],
   "source": [
    "class Vehicle :\n",
    "    def speed(self) :\n",
    "        print('The maximum speed of vehicle is 400km/h')\n",
    "\n",
    "class Car(Vehicle) :\n",
    "    def speed(self) :\n",
    "        print('The maximum speed of vehicle is 500km/h')"
   ]
  },
  {
   "cell_type": "code",
   "execution_count": 13,
   "id": "ea586b40-5b2b-4850-a350-b60471706367",
   "metadata": {},
   "outputs": [
    {
     "name": "stdout",
     "output_type": "stream",
     "text": [
      "The maximum speed of vehicle is 500km/h\n"
     ]
    }
   ],
   "source": [
    "a = Car()\n",
    "a.speed()"
   ]
  }
 ],
 "metadata": {
  "kernelspec": {
   "display_name": "Python 3 (ipykernel)",
   "language": "python",
   "name": "python3"
  },
  "language_info": {
   "codemirror_mode": {
    "name": "ipython",
    "version": 3
   },
   "file_extension": ".py",
   "mimetype": "text/x-python",
   "name": "python",
   "nbconvert_exporter": "python",
   "pygments_lexer": "ipython3",
   "version": "3.10.8"
  }
 },
 "nbformat": 4,
 "nbformat_minor": 5
}
